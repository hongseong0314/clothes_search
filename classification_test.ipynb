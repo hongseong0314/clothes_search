{
 "cells": [
  {
   "cell_type": "code",
   "execution_count": 13,
   "metadata": {},
   "outputs": [
    {
     "data": {
      "text/plain": [
       "<tensorflow.python.training.tracking.util.CheckpointLoadStatus at 0x2e923343108>"
      ]
     },
     "execution_count": 13,
     "metadata": {},
     "output_type": "execute_result"
    }
   ],
   "source": [
    "from codes.models import sai_model\n",
    "from codes.detection import Img_localize\n",
    "from codes.utils import normalize_255, img_re\n",
    "import os\n",
    "import matplotlib.pyplot as plt\n",
    "\n",
    "test_model = sai_model()\n",
    "test_model.load_weights(\"./check_classification/my_checkpoint\")"
   ]
  },
  {
   "cell_type": "code",
   "execution_count": 14,
   "metadata": {},
   "outputs": [],
   "source": [
    "def predict_img(img_list, model):\n",
    "    dicts = {0 : \"T-shirt/top\",    \n",
    "       1 : \"Trouser\",    \n",
    "       2 : \"Pullover\",    \n",
    "       3 : \"Dress\",    \n",
    "       4 : \"Coat\",    \n",
    "       5 : \"Sandal\",    \n",
    "       6 : \"Shirt\",    \n",
    "       7 : \"Sneaker\",    \n",
    "       8 : \"Bag\",    \n",
    "       9 : \"Ankel boot\"}\n",
    "\n",
    "    import numpy as np\n",
    "    pred = model.predict(img_list)\n",
    "    label = np.argmax(pred, axis=1)\n",
    "    n = len(img_list)\n",
    "    fig, ax = plt.subplots(1, 2, figsize=(8, 8))\n",
    "    for i, k in enumerate(img_list):\n",
    "        ax[i].imshow(img_list[i])\n",
    "        ax[i].set_title(\"predict : {}\".format(dicts[label[i]]))\n",
    "        ax[i].axis(\"off\")\n",
    "    fig.tight_layout()\n",
    "    plt.show()"
   ]
  },
  {
   "cell_type": "code",
   "execution_count": 15,
   "metadata": {},
   "outputs": [
    {
     "data": {
      "image/png": "[encoded data removed]",
      "text/plain": [
       "<Figure size 576x576 with 2 Axes>"
      ]
     },
     "metadata": {
      "needs_background": "light"
     },
     "output_type": "display_data"
    }
   ],
   "source": [
    "path = os.path.join(os.getcwd(), 'img/test1.png')\n",
    "imgs = Img_localize(path, 2, \"absorption\")\n",
    "imgs = img_re(imgs)\n",
    "predict_img(imgs, test_model)"
   ]
  },
  {
   "cell_type": "code",
   "execution_count": 16,
   "metadata": {},
   "outputs": [
    {
     "data": {
      "image/png": "[encoded data removed]",
      "text/plain": [
       "<Figure size 576x576 with 2 Axes>"
      ]
     },
     "metadata": {
      "needs_background": "light"
     },
     "output_type": "display_data"
    }
   ],
   "source": [
    "path = os.path.join(os.getcwd(), 'img/test2.png')\n",
    "imgs = Img_localize(path, 2, \"absorption\")\n",
    "imgs = img_re(imgs)\n",
    "predict_img(imgs, test_model)"
   ]
  }
 ],
 "metadata": {
  "interpreter": {
   "hash": "607d3766b43d78f0dd16ea21047f8f9bd7c678e3f0986df422ac1f083987895f"
  },
  "kernelspec": {
   "display_name": "Python 3.7.11 64-bit ('tf': conda)",
   "language": "python",
   "name": "python3"
  },
  "language_info": {
   "codemirror_mode": {
    "name": "ipython",
    "version": 3
   },
   "file_extension": ".py",
   "mimetype": "text/x-python",
   "name": "python",
   "nbconvert_exporter": "python",
   "pygments_lexer": "ipython3",
   "version": "3.7.11"
  },
  "orig_nbformat": 4
 },
 "nbformat": 4,
 "nbformat_minor": 2
}
